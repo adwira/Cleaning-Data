{
 "cells": [
  {
   "cell_type": "markdown",
   "metadata": {
    "id": "bmV-klDMxPYs"
   },
   "source": [
    "Ini merupakan data dari spesifikasi rumah dan harga nya. data ini dapat digunakan untuk men-estimasi harga rumah."
   ]
  },
  {
   "cell_type": "code",
   "execution_count": 14,
   "metadata": {
    "colab": {
     "base_uri": "https://localhost:8080/",
     "height": 206
    },
    "id": "qsdcrDnLAsYr",
    "outputId": "d5b3208f-dc08-4103-a7a9-173e660f29c7"
   },
   "outputs": [
    {
     "data": {
      "text/html": [
       "<div>\n",
       "<style scoped>\n",
       "    .dataframe tbody tr th:only-of-type {\n",
       "        vertical-align: middle;\n",
       "    }\n",
       "\n",
       "    .dataframe tbody tr th {\n",
       "        vertical-align: top;\n",
       "    }\n",
       "\n",
       "    .dataframe thead th {\n",
       "        text-align: right;\n",
       "    }\n",
       "</style>\n",
       "<table border=\"1\" class=\"dataframe\">\n",
       "  <thead>\n",
       "    <tr style=\"text-align: right;\">\n",
       "      <th></th>\n",
       "      <th>NO</th>\n",
       "      <th>NAMA RUMAH</th>\n",
       "      <th>HARGA</th>\n",
       "      <th>LB</th>\n",
       "      <th>LT</th>\n",
       "      <th>KT</th>\n",
       "      <th>KM</th>\n",
       "      <th>GRS</th>\n",
       "    </tr>\n",
       "  </thead>\n",
       "  <tbody>\n",
       "    <tr>\n",
       "      <th>0</th>\n",
       "      <td>1</td>\n",
       "      <td>Rumah Murah Hook Tebet Timur, Tebet, Jakarta S...</td>\n",
       "      <td>3800000000</td>\n",
       "      <td>220.0</td>\n",
       "      <td>220.0</td>\n",
       "      <td>3</td>\n",
       "      <td>3</td>\n",
       "      <td>bisa memuat 0 mobil</td>\n",
       "    </tr>\n",
       "    <tr>\n",
       "      <th>1</th>\n",
       "      <td>2</td>\n",
       "      <td>Rumah Modern di Tebet dekat Stasiun, Tebet, Ja...</td>\n",
       "      <td>4600000000</td>\n",
       "      <td>180.0</td>\n",
       "      <td>137.0</td>\n",
       "      <td>4</td>\n",
       "      <td>3</td>\n",
       "      <td>bisa memuat 2 mobil</td>\n",
       "    </tr>\n",
       "    <tr>\n",
       "      <th>2</th>\n",
       "      <td>3</td>\n",
       "      <td>Rumah Mewah 2 Lantai Hanya 3 Menit Ke Tebet, T...</td>\n",
       "      <td>3000000000</td>\n",
       "      <td>267.0</td>\n",
       "      <td>250.0</td>\n",
       "      <td>4</td>\n",
       "      <td>4</td>\n",
       "      <td>bisa memuat 4 mobil</td>\n",
       "    </tr>\n",
       "    <tr>\n",
       "      <th>3</th>\n",
       "      <td>4</td>\n",
       "      <td>Rumah Baru Tebet, Tebet, Jakarta Selatan</td>\n",
       "      <td>430000000</td>\n",
       "      <td>40.0</td>\n",
       "      <td>25.0</td>\n",
       "      <td>2</td>\n",
       "      <td>2</td>\n",
       "      <td>bisa memuat 0 mobil</td>\n",
       "    </tr>\n",
       "    <tr>\n",
       "      <th>4</th>\n",
       "      <td>5</td>\n",
       "      <td>Rumah Bagus Tebet komp Gudang Peluru lt 350m, ...</td>\n",
       "      <td>9000000000</td>\n",
       "      <td>400.0</td>\n",
       "      <td>355.0</td>\n",
       "      <td>6</td>\n",
       "      <td>5</td>\n",
       "      <td>bisa memuat 3 mobil</td>\n",
       "    </tr>\n",
       "  </tbody>\n",
       "</table>\n",
       "</div>"
      ],
      "text/plain": [
       "   NO                                         NAMA RUMAH       HARGA     LB  \\\n",
       "0   1  Rumah Murah Hook Tebet Timur, Tebet, Jakarta S...  3800000000  220.0   \n",
       "1   2  Rumah Modern di Tebet dekat Stasiun, Tebet, Ja...  4600000000  180.0   \n",
       "2   3  Rumah Mewah 2 Lantai Hanya 3 Menit Ke Tebet, T...  3000000000  267.0   \n",
       "3   4           Rumah Baru Tebet, Tebet, Jakarta Selatan   430000000   40.0   \n",
       "4   5  Rumah Bagus Tebet komp Gudang Peluru lt 350m, ...  9000000000  400.0   \n",
       "\n",
       "      LT  KT  KM                  GRS  \n",
       "0  220.0   3   3  bisa memuat 0 mobil  \n",
       "1  137.0   4   3  bisa memuat 2 mobil  \n",
       "2  250.0   4   4  bisa memuat 4 mobil  \n",
       "3   25.0   2   2  bisa memuat 0 mobil  \n",
       "4  355.0   6   5  bisa memuat 3 mobil  "
      ]
     },
     "execution_count": 14,
     "metadata": {},
     "output_type": "execute_result"
    }
   ],
   "source": [
    "import pandas as pd\n",
    "from sklearn.preprocessing import LabelEncoder\n",
    "\n",
    "df = pd.read_csv('https://raw.githubusercontent.com/adwira/Cleaning-Data/main/DATA_RUMAH_MODIFIED.csv')\n",
    "df.head()"
   ]
  },
  {
   "cell_type": "code",
   "execution_count": 13,
   "metadata": {},
   "outputs": [
    {
     "name": "stdout",
     "output_type": "stream",
     "text": [
      "Requirement already satisfied: scikit-learn in c:\\users\\user\\appdata\\local\\programs\\python\\python312\\lib\\site-packages (1.6.1)\n",
      "Requirement already satisfied: numpy>=1.19.5 in c:\\users\\user\\appdata\\local\\programs\\python\\python312\\lib\\site-packages (from scikit-learn) (2.1.0)\n",
      "Requirement already satisfied: scipy>=1.6.0 in c:\\users\\user\\appdata\\local\\programs\\python\\python312\\lib\\site-packages (from scikit-learn) (1.15.2)\n",
      "Requirement already satisfied: joblib>=1.2.0 in c:\\users\\user\\appdata\\local\\programs\\python\\python312\\lib\\site-packages (from scikit-learn) (1.4.2)\n",
      "Requirement already satisfied: threadpoolctl>=3.1.0 in c:\\users\\user\\appdata\\local\\programs\\python\\python312\\lib\\site-packages (from scikit-learn) (3.6.0)\n",
      "Note: you may need to restart the kernel to use updated packages.\n"
     ]
    }
   ],
   "source": []
  },
  {
   "cell_type": "markdown",
   "metadata": {
    "id": "z3BrM2LhyHJz"
   },
   "source": [
    "Data ini sebelum dilakukan cleaning terdiri dari 8 kolom dan 1010 baris."
   ]
  },
  {
   "cell_type": "code",
   "execution_count": 3,
   "metadata": {
    "colab": {
     "base_uri": "https://localhost:8080/"
    },
    "id": "Lbd86yHPxBbv",
    "outputId": "03f793de-4f69-41e5-84f0-2f5b6a62cf31"
   },
   "outputs": [
    {
     "name": "stdout",
     "output_type": "stream",
     "text": [
      "<class 'pandas.core.frame.DataFrame'>\n",
      "RangeIndex: 1010 entries, 0 to 1009\n",
      "Data columns (total 8 columns):\n",
      " #   Column      Non-Null Count  Dtype  \n",
      "---  ------      --------------  -----  \n",
      " 0   NO          1010 non-null   int64  \n",
      " 1   NAMA RUMAH  1010 non-null   object \n",
      " 2   HARGA       1010 non-null   int64  \n",
      " 3   LB          985 non-null    float64\n",
      " 4   LT          975 non-null    float64\n",
      " 5   KT          1010 non-null   int64  \n",
      " 6   KM          1010 non-null   int64  \n",
      " 7   GRS         1010 non-null   object \n",
      "dtypes: float64(2), int64(4), object(2)\n",
      "memory usage: 63.3+ KB\n"
     ]
    }
   ],
   "source": [
    "df.info()"
   ]
  },
  {
   "cell_type": "markdown",
   "metadata": {
    "id": "url2-TZ8yaQP"
   },
   "source": [
    "Pertama dalam proses cleaning data ini adalah menghapus kolom data yang tak terlalu penting, seperti NO dan NAMA RUMAH. Alasannya karena kedua kolom data ini tidak akan digunakan dan tidak penting dalam analisis."
   ]
  },
  {
   "cell_type": "code",
   "execution_count": 4,
   "metadata": {
    "colab": {
     "base_uri": "https://localhost:8080/"
    },
    "id": "3U3ILPSRBeQp",
    "outputId": "fcbc7a34-bcf0-4ece-fcc6-25cb7a8aadd5"
   },
   "outputs": [
    {
     "name": "stdout",
     "output_type": "stream",
     "text": [
      "<class 'pandas.core.frame.DataFrame'>\n",
      "RangeIndex: 1010 entries, 0 to 1009\n",
      "Data columns (total 6 columns):\n",
      " #   Column  Non-Null Count  Dtype  \n",
      "---  ------  --------------  -----  \n",
      " 0   HARGA   1010 non-null   int64  \n",
      " 1   LB      985 non-null    float64\n",
      " 2   LT      975 non-null    float64\n",
      " 3   KT      1010 non-null   int64  \n",
      " 4   KM      1010 non-null   int64  \n",
      " 5   GRS     1010 non-null   object \n",
      "dtypes: float64(2), int64(3), object(1)\n",
      "memory usage: 47.5+ KB\n"
     ]
    }
   ],
   "source": [
    "cols = ['NO','NAMA RUMAH']\n",
    "df = df.drop(cols, axis=1)\n",
    "df.info()"
   ]
  },
  {
   "cell_type": "markdown",
   "metadata": {
    "id": "fS-pV-ze3iat"
   },
   "source": [
    "Kemudian dilakukan penghapusan setiap baris yang tidak terdapat nilai atau berisi null."
   ]
  },
  {
   "cell_type": "code",
   "execution_count": 5,
   "metadata": {
    "colab": {
     "base_uri": "https://localhost:8080/"
    },
    "id": "oRkaMrtu3c6M",
    "outputId": "b276cacb-9df8-44a0-b6ef-ae2da7a765b9"
   },
   "outputs": [
    {
     "name": "stdout",
     "output_type": "stream",
     "text": [
      "<class 'pandas.core.frame.DataFrame'>\n",
      "Index: 951 entries, 0 to 1009\n",
      "Data columns (total 6 columns):\n",
      " #   Column  Non-Null Count  Dtype  \n",
      "---  ------  --------------  -----  \n",
      " 0   HARGA   951 non-null    int64  \n",
      " 1   LB      951 non-null    float64\n",
      " 2   LT      951 non-null    float64\n",
      " 3   KT      951 non-null    int64  \n",
      " 4   KM      951 non-null    int64  \n",
      " 5   GRS     951 non-null    object \n",
      "dtypes: float64(2), int64(3), object(1)\n",
      "memory usage: 52.0+ KB\n"
     ]
    }
   ],
   "source": [
    "df.dropna(inplace=True)\n",
    "df.info()"
   ]
  },
  {
   "cell_type": "markdown",
   "metadata": {
    "id": "T2iI_5a54DFp"
   },
   "source": [
    "Kemudian dilakukan label-encoding pada kolom GRS, agar kolom tersebut hanya berisi bilangan numerik dan bisa di analisis."
   ]
  },
  {
   "cell_type": "code",
   "execution_count": 6,
   "metadata": {
    "colab": {
     "base_uri": "https://localhost:8080/"
    },
    "id": "96NS3Dc6zEO7",
    "outputId": "7a7476fb-bb94-4ae1-ff94-7d57f7fcfc65"
   },
   "outputs": [
    {
     "name": "stdout",
     "output_type": "stream",
     "text": [
      "<class 'pandas.core.frame.DataFrame'>\n",
      "Index: 951 entries, 0 to 1009\n",
      "Data columns (total 6 columns):\n",
      " #   Column  Non-Null Count  Dtype  \n",
      "---  ------  --------------  -----  \n",
      " 0   HARGA   951 non-null    int64  \n",
      " 1   LB      951 non-null    float64\n",
      " 2   LT      951 non-null    float64\n",
      " 3   KT      951 non-null    int64  \n",
      " 4   KM      951 non-null    int64  \n",
      " 5   GRS     951 non-null    int64  \n",
      "dtypes: float64(2), int64(4)\n",
      "memory usage: 52.0 KB\n"
     ]
    }
   ],
   "source": [
    "\n",
    "label_encoder = LabelEncoder()\n",
    "df[\"GRS\"] = label_encoder.fit_transform(df[\"GRS\"])\n",
    "df.info()"
   ]
  }
 ],
 "metadata": {
  "colab": {
   "provenance": []
  },
  "kernelspec": {
   "display_name": "Python 3 (ipykernel)",
   "language": "python",
   "name": "python3"
  },
  "language_info": {
   "codemirror_mode": {
    "name": "ipython",
    "version": 3
   },
   "file_extension": ".py",
   "mimetype": "text/x-python",
   "name": "python",
   "nbconvert_exporter": "python",
   "pygments_lexer": "ipython3",
   "version": "3.12.5"
  }
 },
 "nbformat": 4,
 "nbformat_minor": 4
}
